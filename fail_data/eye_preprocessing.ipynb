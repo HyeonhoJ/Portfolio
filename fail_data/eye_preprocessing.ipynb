{
 "cells": [
  {
   "cell_type": "markdown",
   "metadata": {},
   "source": [
    "## 눈 전처리"
   ]
  },
  {
   "cell_type": "code",
   "execution_count": null,
   "metadata": {},
   "outputs": [],
   "source": [
    "import os\n",
    "import os.path\n",
    "import cv2\n"
   ]
  },
  {
   "cell_type": "code",
   "execution_count": null,
   "metadata": {},
   "outputs": [],
   "source": [
    "base_path = 'C:/Users/jungh/final_project/img_path/eye_path'"
   ]
  },
  {
   "cell_type": "code",
   "execution_count": null,
   "metadata": {},
   "outputs": [],
   "source": [
    "# 데이터 전처리와 전처리한 데이터를 저장하기 위해 사용\n",
    "for root, dirs, files in os.walk(base_path): # os.walk()를 사용하면 모든 하위 폴더와 파일을 탐색 할 수 있다  하위의 폴더들을 for문으로 탐색할 수 있게 해줌\n",
    "    for file in files:\n",
    "        if file.lower().endswith('.jpg') or file.lower().endswith('.jpeg'):\n",
    "            image_path = os.path.join(root, file)\n",
    "\n",
    "            # 이미지 변환 코드\n",
    "            eye = cv2.imread(image_path)\n",
    "            eye_gray = cv2.cvtColor(eye, cv2.COLOR_BGR2GRAY)\n",
    "            _, thresholded = cv2.threshold(eye_gray, 90, 255, cv2.THRESH_BINARY)\n",
    "            thresholded = cv2.inRange(thresholded, 0, 1)\n",
    "            eye_masked = cv2.bitwise_and(eye, eye, mask=thresholded)\n",
    "\n",
    "            # 이미지 저장 코드\n",
    "            output_dir = os.path.join(root, 'processed')\n",
    "            os.makedirs(output_dir, exist_ok=True)\n",
    "            output_path = os.path.join(output_dir, file)\n",
    "            cv2.imwrite(output_path, eye_masked)"
   ]
  }
 ],
 "metadata": {
  "language_info": {
   "name": "python"
  },
  "orig_nbformat": 4
 },
 "nbformat": 4,
 "nbformat_minor": 2
}
