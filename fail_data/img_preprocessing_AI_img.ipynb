{
 "cells": [
  {
   "cell_type": "code",
   "execution_count": 1,
   "metadata": {},
   "outputs": [],
   "source": [
    "import cv2\n",
    "import numpy as np\n",
    "import os\n"
   ]
  },
  {
   "cell_type": "code",
   "execution_count": 3,
   "metadata": {},
   "outputs": [],
   "source": [
    "face_cascade = cv2.CascadeClassifier(cv2.data.haarcascades + 'haarcascade_frontalface_default.xml')\n",
    "gray_image = cv2.cvtColor(image, cv2.COLOR_BGR2GRAY)\n",
    "faces = face_cascade.detectMultiScale(gray_image, scaleFactor=1.1,  minNeighbors=5, minSize=(30, 30))\n"
   ]
  },
  {
   "cell_type": "code",
   "execution_count": null,
   "metadata": {},
   "outputs": [],
   "source": [
    "base_path = 'C:/Users/jungh/final_project/seasons_img'\n"
   ]
  },
  {
   "cell_type": "code",
   "execution_count": null,
   "metadata": {},
   "outputs": [],
   "source": [
    "for root, dirs, files in os.walk(base_path): # os.walk()를 사용하면 모든 하위 폴더와 파일을 탐색 할 수 있다  하위의 폴더들을 for문으로 탐색할 수 있게 해줌\n",
    "\n",
    "    for file in files:\n",
    "        if file.lower().endswith('.jpg'):\n",
    "            image_path = os.path.join(root, file)\n",
    "\n",
    "            # 이미지 변환 코드\n",
    "            image = cv2.imread(image_path)\n",
    "            # 이미지 HSV 색 공간 변환\n",
    "            img_HSV = cv2.cvtColor(image, cv2.COLOR_BGR2HSV)\n",
    "            HSV_mask = cv2.inRange(img_HSV, (0, 15, 0), (17, 170, 255))\n",
    "            HSV_mask = cv2.morphologyEx(HSV_mask, cv2.MORPH_OPEN, np.ones((3, 3), np.uint8))\n",
    "\n",
    "            # 이미지 YCrCb 색 공간 변환\n",
    "            img_YCrCb = cv2.cvtColor(image, cv2.COLOR_BGR2YCrCb)\n",
    "            YCrCb_mask = cv2.inRange(img_YCrCb, (0, 135, 85), (255, 180, 135))\n",
    "            YCrCb_mask = cv2.morphologyEx(YCrCb_mask, cv2.MORPH_OPEN, np.ones((3, 3), np.uint8))\n",
    "\n",
    "            # 얼굴과 머리카락 영역의 마스크 생성\n",
    "            global_mask = cv2.bitwise_and(YCrCb_mask, HSV_mask)\n",
    "            global_mask = cv2.medianBlur(global_mask, 3)\n",
    "            global_mask = cv2.morphologyEx(global_mask, cv2.MORPH_OPEN, np.ones((4, 4), np.uint8))\n",
    "\n",
    "            # 머리카락 영역의 마스크 생성\n",
    "            spatial_radius = 10\n",
    "            color_radius = 10\n",
    "            max_pyramid_level = 1\n",
    "            segmented = cv2.pyrMeanShiftFiltering(image, spatial_radius, color_radius, maxLevel=max_pyramid_level)\n",
    "            segmented_gray = cv2.cvtColor(segmented, cv2.COLOR_BGR2GRAY)\n",
    "            _, hair_mask = cv2.threshold(segmented_gray, 0, 255, cv2.THRESH_BINARY_INV | cv2.THRESH_OTSU)\n",
    "            kernel = np.ones((5, 5), np.uint8)\n",
    "            hair_mask = cv2.morphologyEx(hair_mask, cv2.MORPH_OPEN, kernel)\n",
    "\n",
    "            # 얼굴과 머리카락 영역을 합쳐서 최종 마스크 생성\n",
    "            final_mask = cv2.bitwise_or(global_mask, hair_mask)\n",
    "\n",
    "\n",
    "            # 최종 마스크를 사용하여 얼굴과 머리카락만 남기고 나머지는 흰색으로 처리\n",
    "            result = cv2.bitwise_and(image, image, mask=final_mask)\n",
    "            \n",
    "            # 이미지 저장 코드\n",
    "            output_dir = os.path.join(root, 'processed')\n",
    "            os.makedirs(output_dir, exist_ok=True)\n",
    "            output_path = os.path.join(output_dir, file)\n",
    "            cv2.imwrite(output_path, result)"
   ]
  }
 ],
 "metadata": {
  "kernelspec": {
   "display_name": "base",
   "language": "python",
   "name": "python3"
  },
  "language_info": {
   "codemirror_mode": {
    "name": "ipython",
    "version": 3
   },
   "file_extension": ".py",
   "mimetype": "text/x-python",
   "name": "python",
   "nbconvert_exporter": "python",
   "pygments_lexer": "ipython3",
   "version": "3.9.13"
  },
  "orig_nbformat": 4
 },
 "nbformat": 4,
 "nbformat_minor": 2
}
